{
 "cells": [
  {
   "cell_type": "code",
   "execution_count": 2,
   "id": "68342cdc-8794-4032-9b63-e8d7cd9e4481",
   "metadata": {},
   "outputs": [],
   "source": [
    "import pandas as pd"
   ]
  },
  {
   "cell_type": "code",
   "execution_count": 3,
   "id": "9ae9a766-b573-46ac-87ba-6ab394fe871a",
   "metadata": {},
   "outputs": [],
   "source": [
    "df=pd.read_csv(r\"C:\\Users\\pamah\\Downloads\\zomato_data.csv\")"
   ]
  },
  {
   "cell_type": "code",
   "execution_count": 4,
   "id": "67cc7b2b-05c0-4d19-9f58-f9945457db32",
   "metadata": {},
   "outputs": [
    {
     "data": {
      "text/plain": [
       "(51717, 10)"
      ]
     },
     "execution_count": 4,
     "metadata": {},
     "output_type": "execute_result"
    }
   ],
   "source": [
    "df.shape"
   ]
  },
  {
   "cell_type": "code",
   "execution_count": 5,
   "id": "4ccd6edf-4a70-4389-be2c-eb33051d483f",
   "metadata": {},
   "outputs": [
    {
     "data": {
      "text/html": [
       "<div>\n",
       "<style scoped>\n",
       "    .dataframe tbody tr th:only-of-type {\n",
       "        vertical-align: middle;\n",
       "    }\n",
       "\n",
       "    .dataframe tbody tr th {\n",
       "        vertical-align: top;\n",
       "    }\n",
       "\n",
       "    .dataframe thead th {\n",
       "        text-align: right;\n",
       "    }\n",
       "</style>\n",
       "<table border=\"1\" class=\"dataframe\">\n",
       "  <thead>\n",
       "    <tr style=\"text-align: right;\">\n",
       "      <th></th>\n",
       "      <th>online_order</th>\n",
       "      <th>book_table</th>\n",
       "      <th>rate</th>\n",
       "      <th>votes</th>\n",
       "      <th>rest_type</th>\n",
       "      <th>dish_liked</th>\n",
       "      <th>cuisines</th>\n",
       "      <th>approx_costfor_two_people</th>\n",
       "      <th>listed_intype</th>\n",
       "      <th>listed_incity</th>\n",
       "    </tr>\n",
       "  </thead>\n",
       "  <tbody>\n",
       "    <tr>\n",
       "      <th>0</th>\n",
       "      <td>Yes</td>\n",
       "      <td>Yes</td>\n",
       "      <td>4.1/5</td>\n",
       "      <td>775</td>\n",
       "      <td>Casual Dining</td>\n",
       "      <td>Pasta, Lunch Buffet, Masala Papad, Paneer Laja...</td>\n",
       "      <td>North Indian, Mughlai, Chinese</td>\n",
       "      <td>800</td>\n",
       "      <td>Buffet</td>\n",
       "      <td>Banashankari</td>\n",
       "    </tr>\n",
       "    <tr>\n",
       "      <th>1</th>\n",
       "      <td>Yes</td>\n",
       "      <td>No</td>\n",
       "      <td>4.1/5</td>\n",
       "      <td>787</td>\n",
       "      <td>Casual Dining</td>\n",
       "      <td>Momos, Lunch Buffet, Chocolate Nirvana, Thai G...</td>\n",
       "      <td>Chinese, North Indian, Thai</td>\n",
       "      <td>800</td>\n",
       "      <td>Buffet</td>\n",
       "      <td>Banashankari</td>\n",
       "    </tr>\n",
       "    <tr>\n",
       "      <th>2</th>\n",
       "      <td>Yes</td>\n",
       "      <td>No</td>\n",
       "      <td>3.8/5</td>\n",
       "      <td>918</td>\n",
       "      <td>Cafe, Casual Dining</td>\n",
       "      <td>Churros, Cannelloni, Minestrone Soup, Hot Choc...</td>\n",
       "      <td>Cafe, Mexican, Italian</td>\n",
       "      <td>800</td>\n",
       "      <td>Buffet</td>\n",
       "      <td>Banashankari</td>\n",
       "    </tr>\n",
       "    <tr>\n",
       "      <th>3</th>\n",
       "      <td>No</td>\n",
       "      <td>No</td>\n",
       "      <td>3.7/5</td>\n",
       "      <td>88</td>\n",
       "      <td>Quick Bites</td>\n",
       "      <td>Masala Dosa</td>\n",
       "      <td>South Indian, North Indian</td>\n",
       "      <td>300</td>\n",
       "      <td>Buffet</td>\n",
       "      <td>Banashankari</td>\n",
       "    </tr>\n",
       "    <tr>\n",
       "      <th>4</th>\n",
       "      <td>No</td>\n",
       "      <td>No</td>\n",
       "      <td>3.8/5</td>\n",
       "      <td>166</td>\n",
       "      <td>Casual Dining</td>\n",
       "      <td>Panipuri, Gol Gappe</td>\n",
       "      <td>North Indian, Rajasthani</td>\n",
       "      <td>600</td>\n",
       "      <td>Buffet</td>\n",
       "      <td>Banashankari</td>\n",
       "    </tr>\n",
       "    <tr>\n",
       "      <th>...</th>\n",
       "      <td>...</td>\n",
       "      <td>...</td>\n",
       "      <td>...</td>\n",
       "      <td>...</td>\n",
       "      <td>...</td>\n",
       "      <td>...</td>\n",
       "      <td>...</td>\n",
       "      <td>...</td>\n",
       "      <td>...</td>\n",
       "      <td>...</td>\n",
       "    </tr>\n",
       "    <tr>\n",
       "      <th>51712</th>\n",
       "      <td>No</td>\n",
       "      <td>No</td>\n",
       "      <td>3.6 /5</td>\n",
       "      <td>27</td>\n",
       "      <td>Bar</td>\n",
       "      <td>NaN</td>\n",
       "      <td>Continental</td>\n",
       "      <td>1,500</td>\n",
       "      <td>Pubs and bars</td>\n",
       "      <td>Whitefield</td>\n",
       "    </tr>\n",
       "    <tr>\n",
       "      <th>51713</th>\n",
       "      <td>No</td>\n",
       "      <td>No</td>\n",
       "      <td>NaN</td>\n",
       "      <td>0</td>\n",
       "      <td>Bar</td>\n",
       "      <td>NaN</td>\n",
       "      <td>Finger Food</td>\n",
       "      <td>600</td>\n",
       "      <td>Pubs and bars</td>\n",
       "      <td>Whitefield</td>\n",
       "    </tr>\n",
       "    <tr>\n",
       "      <th>51714</th>\n",
       "      <td>No</td>\n",
       "      <td>No</td>\n",
       "      <td>NaN</td>\n",
       "      <td>0</td>\n",
       "      <td>Bar</td>\n",
       "      <td>NaN</td>\n",
       "      <td>Finger Food</td>\n",
       "      <td>2,000</td>\n",
       "      <td>Pubs and bars</td>\n",
       "      <td>Whitefield</td>\n",
       "    </tr>\n",
       "    <tr>\n",
       "      <th>51715</th>\n",
       "      <td>No</td>\n",
       "      <td>Yes</td>\n",
       "      <td>4.3 /5</td>\n",
       "      <td>236</td>\n",
       "      <td>Bar</td>\n",
       "      <td>Cocktails, Pizza, Buttermilk</td>\n",
       "      <td>Finger Food</td>\n",
       "      <td>2,500</td>\n",
       "      <td>Pubs and bars</td>\n",
       "      <td>Whitefield</td>\n",
       "    </tr>\n",
       "    <tr>\n",
       "      <th>51716</th>\n",
       "      <td>No</td>\n",
       "      <td>No</td>\n",
       "      <td>3.4 /5</td>\n",
       "      <td>13</td>\n",
       "      <td>Bar, Casual Dining</td>\n",
       "      <td>NaN</td>\n",
       "      <td>Finger Food, North Indian, Continental</td>\n",
       "      <td>1,500</td>\n",
       "      <td>Pubs and bars</td>\n",
       "      <td>Whitefield</td>\n",
       "    </tr>\n",
       "  </tbody>\n",
       "</table>\n",
       "<p>51717 rows × 10 columns</p>\n",
       "</div>"
      ],
      "text/plain": [
       "      online_order book_table    rate  votes            rest_type  \\\n",
       "0              Yes        Yes   4.1/5    775        Casual Dining   \n",
       "1              Yes         No   4.1/5    787        Casual Dining   \n",
       "2              Yes         No   3.8/5    918  Cafe, Casual Dining   \n",
       "3               No         No   3.7/5     88          Quick Bites   \n",
       "4               No         No   3.8/5    166        Casual Dining   \n",
       "...            ...        ...     ...    ...                  ...   \n",
       "51712           No         No  3.6 /5     27                  Bar   \n",
       "51713           No         No     NaN      0                  Bar   \n",
       "51714           No         No     NaN      0                  Bar   \n",
       "51715           No        Yes  4.3 /5    236                  Bar   \n",
       "51716           No         No  3.4 /5     13   Bar, Casual Dining   \n",
       "\n",
       "                                              dish_liked  \\\n",
       "0      Pasta, Lunch Buffet, Masala Papad, Paneer Laja...   \n",
       "1      Momos, Lunch Buffet, Chocolate Nirvana, Thai G...   \n",
       "2      Churros, Cannelloni, Minestrone Soup, Hot Choc...   \n",
       "3                                            Masala Dosa   \n",
       "4                                    Panipuri, Gol Gappe   \n",
       "...                                                  ...   \n",
       "51712                                                NaN   \n",
       "51713                                                NaN   \n",
       "51714                                                NaN   \n",
       "51715                       Cocktails, Pizza, Buttermilk   \n",
       "51716                                                NaN   \n",
       "\n",
       "                                     cuisines approx_costfor_two_people  \\\n",
       "0              North Indian, Mughlai, Chinese                       800   \n",
       "1                 Chinese, North Indian, Thai                       800   \n",
       "2                      Cafe, Mexican, Italian                       800   \n",
       "3                  South Indian, North Indian                       300   \n",
       "4                    North Indian, Rajasthani                       600   \n",
       "...                                       ...                       ...   \n",
       "51712                             Continental                     1,500   \n",
       "51713                             Finger Food                       600   \n",
       "51714                             Finger Food                     2,000   \n",
       "51715                             Finger Food                     2,500   \n",
       "51716  Finger Food, North Indian, Continental                     1,500   \n",
       "\n",
       "       listed_intype listed_incity  \n",
       "0             Buffet  Banashankari  \n",
       "1             Buffet  Banashankari  \n",
       "2             Buffet  Banashankari  \n",
       "3             Buffet  Banashankari  \n",
       "4             Buffet  Banashankari  \n",
       "...              ...           ...  \n",
       "51712  Pubs and bars    Whitefield  \n",
       "51713  Pubs and bars    Whitefield  \n",
       "51714  Pubs and bars    Whitefield  \n",
       "51715  Pubs and bars    Whitefield  \n",
       "51716  Pubs and bars    Whitefield  \n",
       "\n",
       "[51717 rows x 10 columns]"
      ]
     },
     "execution_count": 5,
     "metadata": {},
     "output_type": "execute_result"
    }
   ],
   "source": [
    "df"
   ]
  },
  {
   "cell_type": "code",
   "execution_count": 10,
   "id": "67e8b27a-6a9f-4c27-9056-a6f28cd2c423",
   "metadata": {},
   "outputs": [
    {
     "name": "stdout",
     "output_type": "stream",
     "text": [
      "21085\n"
     ]
    }
   ],
   "source": [
    "count_north_indian = df['cuisines'].dropna().apply(lambda x: 'North Indian' in x).sum()\n",
    "print(count_north_indian)"
   ]
  },
  {
   "cell_type": "code",
   "execution_count": 28,
   "id": "38f724a7-12f6-447a-a905-9a7a35fd98db",
   "metadata": {},
   "outputs": [
    {
     "data": {
      "text/html": [
       "<div>\n",
       "<style scoped>\n",
       "    .dataframe tbody tr th:only-of-type {\n",
       "        vertical-align: middle;\n",
       "    }\n",
       "\n",
       "    .dataframe tbody tr th {\n",
       "        vertical-align: top;\n",
       "    }\n",
       "\n",
       "    .dataframe thead th {\n",
       "        text-align: right;\n",
       "    }\n",
       "</style>\n",
       "<table border=\"1\" class=\"dataframe\">\n",
       "  <thead>\n",
       "    <tr style=\"text-align: right;\">\n",
       "      <th></th>\n",
       "      <th>online_order</th>\n",
       "      <th>book_table</th>\n",
       "      <th>rate</th>\n",
       "      <th>votes</th>\n",
       "      <th>rest_type</th>\n",
       "      <th>dish_liked</th>\n",
       "      <th>cuisines</th>\n",
       "      <th>approx_costfor_two_people</th>\n",
       "      <th>listed_intype</th>\n",
       "      <th>listed_incity</th>\n",
       "      <th>rate_cleaned</th>\n",
       "      <th>cost</th>\n",
       "      <th>estimated_revenue</th>\n",
       "    </tr>\n",
       "  </thead>\n",
       "  <tbody>\n",
       "    <tr>\n",
       "      <th>19139</th>\n",
       "      <td>No</td>\n",
       "      <td>Yes</td>\n",
       "      <td>4.3</td>\n",
       "      <td>126</td>\n",
       "      <td>Fine Dining</td>\n",
       "      <td>Wine, Asparagus Soup, Creme Brulee, Pasta, Rav...</td>\n",
       "      <td>French, Italian</td>\n",
       "      <td>6000.0</td>\n",
       "      <td>Dine-out</td>\n",
       "      <td>Indiranagar</td>\n",
       "      <td>4.3</td>\n",
       "      <td>6000.0</td>\n",
       "      <td>756000.0</td>\n",
       "    </tr>\n",
       "    <tr>\n",
       "      <th>45618</th>\n",
       "      <td>No</td>\n",
       "      <td>Yes</td>\n",
       "      <td>4.3</td>\n",
       "      <td>128</td>\n",
       "      <td>Fine Dining</td>\n",
       "      <td>Wine, Asparagus Soup, Creme Brulee, Pasta, Rav...</td>\n",
       "      <td>French, Italian</td>\n",
       "      <td>6000.0</td>\n",
       "      <td>Dine-out</td>\n",
       "      <td>Old Airport Road</td>\n",
       "      <td>4.3</td>\n",
       "      <td>6000.0</td>\n",
       "      <td>768000.0</td>\n",
       "    </tr>\n",
       "  </tbody>\n",
       "</table>\n",
       "</div>"
      ],
      "text/plain": [
       "      online_order book_table  rate  votes    rest_type  \\\n",
       "19139           No        Yes   4.3    126  Fine Dining   \n",
       "45618           No        Yes   4.3    128  Fine Dining   \n",
       "\n",
       "                                              dish_liked         cuisines  \\\n",
       "19139  Wine, Asparagus Soup, Creme Brulee, Pasta, Rav...  French, Italian   \n",
       "45618  Wine, Asparagus Soup, Creme Brulee, Pasta, Rav...  French, Italian   \n",
       "\n",
       "       approx_costfor_two_people listed_intype     listed_incity  \\\n",
       "19139                     6000.0      Dine-out       Indiranagar   \n",
       "45618                     6000.0      Dine-out  Old Airport Road   \n",
       "\n",
       "       rate_cleaned    cost  estimated_revenue  \n",
       "19139           4.3  6000.0           756000.0  \n",
       "45618           4.3  6000.0           768000.0  "
      ]
     },
     "execution_count": 28,
     "metadata": {},
     "output_type": "execute_result"
    }
   ],
   "source": [
    "#Q3\n",
    "df['cuisines'].value_counts()\n",
    "#Q4\n",
    "df['approx_costfor_two_people']=df['approx_costfor_two_people'].replace(',','').astype(float)\n",
    "df['approx_costfor_two_people'].max()\n",
    "df[df['approx_costfor_two_people']==6000.0]"
   ]
  },
  {
   "cell_type": "code",
   "execution_count": null,
   "id": "ce3a3e48-0661-43ee-9562-71cb76e51f88",
   "metadata": {},
   "outputs": [],
   "source": []
  },
  {
   "cell_type": "code",
   "execution_count": null,
   "id": "25efce87-5a64-4a50-8173-a7f73239cf84",
   "metadata": {},
   "outputs": [],
   "source": []
  },
  {
   "cell_type": "code",
   "execution_count": null,
   "id": "7554c6ec-e39c-426d-8e4c-c5a202378e15",
   "metadata": {},
   "outputs": [],
   "source": []
  },
  {
   "cell_type": "code",
   "execution_count": null,
   "id": "a0278635-6c9d-47e6-b977-866fc3a15c23",
   "metadata": {},
   "outputs": [],
   "source": []
  },
  {
   "cell_type": "code",
   "execution_count": 42,
   "id": "f3b9a408-b02a-49d6-a89f-6fd0631a6bb2",
   "metadata": {},
   "outputs": [
    {
     "name": "stdout",
     "output_type": "stream",
     "text": [
      "Minimum cost to eat out in Bangalore: ₹ 40\n",
      "Area Zomato should invest: Koramangala 7th Block\n"
     ]
    }
   ],
   "source": [
    "\n",
    "\n",
    "# Drop rows with missing key columns\n",
    "df = df.dropna(subset=['rate', 'votes', 'online_order', 'listed_incity', 'approx_costfor_two_people'])\n",
    "\n",
    "# Ensure 'rate' is string type before using .str\n",
    "df['rate'] = df['rate'].astype(str)\n",
    "\n",
    "# Extract numeric part of the rate and convert to float\n",
    "df['rate'] = df['rate'].str.split('/').str[0]\n",
    "df['rate'] = pd.to_numeric(df['rate'], errors='coerce')\n",
    "\n",
    "# Ensure 'votes' is numeric\n",
    "df['votes'] = pd.to_numeric(df['votes'], errors='coerce')\n",
    "\n",
    "# Clean cost column: remove commas and convert to numeric\n",
    "df['approx_costfor_two_people'] = df['approx_costfor_two_people'].astype(str).str.replace(',', '')\n",
    "df['approx_costfor_two_people'] = pd.to_numeric(df['approx_costfor_two_people'], errors='coerce')\n",
    "\n",
    "# Find the minimum cost to eat out in Bangalore\n",
    "min_cost = df['approx_costfor_two_people'].min()\n",
    "print(\"Minimum cost to eat out in Bangalore: ₹\", int(min_cost))\n",
    "\n",
    "# Filter dataset based on conditions\n",
    "filtered = df[\n",
    "    (df['rate'] > 4.2) &\n",
    "    (df['votes'] > 500) &\n",
    "    (df['online_order'] == 'Yes')\n",
    "]\n",
    "\n",
    "# Find the area with the most matching restaurants\n",
    "top_location = filtered['listed_incity'].value_counts().idxmax()\n",
    "print(\"Area Zomato should invest:\", top_location)\n"
   ]
  },
  {
   "cell_type": "code",
   "execution_count": null,
   "id": "e4264930-3391-4b37-b8a5-92982f6cdab5",
   "metadata": {},
   "outputs": [],
   "source": []
  },
  {
   "cell_type": "code",
   "execution_count": 29,
   "id": "b8942811-2686-4b29-8cf6-14f1f994af69",
   "metadata": {},
   "outputs": [
    {
     "name": "stdout",
     "output_type": "stream",
     "text": [
      "1.90%\n"
     ]
    }
   ],
   "source": [
    "# Filter for restaurants that accept online orders             7\n",
    "online_orders = df[df['online_order'] == 'Yes']\n",
    "\n",
    "# Filter for restaurants in Banashankari that accept online orders\n",
    "banashankari_online_orders = online_orders[online_orders['listed_incity'] == 'Banashankari']\n",
    "\n",
    "# Calculate the percentage\n",
    "percentage = (banashankari_online_orders.shape[0] / online_orders.shape[0]) * 100\n",
    "print(f\"{percentage:.2f}%\")"
   ]
  },
  {
   "cell_type": "code",
   "execution_count": null,
   "id": "f776e472-e96a-49e7-8bdd-101ccbf94d09",
   "metadata": {},
   "outputs": [],
   "source": []
  },
  {
   "cell_type": "code",
   "execution_count": 35,
   "id": "01efeaa8-1072-4577-abb8-ac563a671f03",
   "metadata": {},
   "outputs": [
    {
     "name": "stdout",
     "output_type": "stream",
     "text": [
      "listed_incity\n",
      "Brookefield              8\n",
      "Whitefield               6\n",
      "Indiranagar              4\n",
      "Old Airport Road         4\n",
      "Bellandur                3\n",
      "Marathahalli             3\n",
      "Banashankari             2\n",
      "Koramangala 4th Block    2\n",
      "Koramangala 5th Block    2\n",
      "Koramangala 6th Block    2\n",
      "Koramangala 7th Block    2\n",
      "Sarjapur Road            2\n",
      "HSR                      1\n",
      "Kalyan Nagar             1\n",
      "Kammanahalli             1\n",
      "Name: count, dtype: int64\n"
     ]
    }
   ],
   "source": [
    "#8\n",
    "df['rate'] = df['rate'].astype(str)\n",
    "\n",
    "# Ensure 'votes' is numeric\n",
    "df['votes'] = pd.to_numeric(df['votes'], errors='coerce')\n",
    "\n",
    "# Clean and convert the 'rate' column to numeric\n",
    "df['rate_cleaned'] = df['rate'].str.extract(r'(\\d+\\.\\d+)').astype(float)\n",
    "\n",
    "# Filter restaurants with more than 500 votes and rating below 3.0\n",
    "filtered_df = df[(df['votes'] > 500) & (df['rate_cleaned'].notna()) & (df['rate_cleaned'] < 3.0)]\n",
    "\n",
    "# Count the number of such restaurants by locality\n",
    "locality_counts = filtered_df['listed_incity'].value_counts()\n",
    "print(locality_counts)"
   ]
  },
  {
   "cell_type": "code",
   "execution_count": null,
   "id": "67ef0928-e2ed-487d-9863-4b8e2e6bcd7d",
   "metadata": {},
   "outputs": [],
   "source": []
  },
  {
   "cell_type": "code",
   "execution_count": null,
   "id": "67bfd61f-bd83-4dfc-bcc3-b049c7ea6dcc",
   "metadata": {},
   "outputs": [],
   "source": []
  },
  {
   "cell_type": "code",
   "execution_count": 13,
   "id": "91dced9c-8811-4081-beab-42fce25ba628",
   "metadata": {},
   "outputs": [
    {
     "name": "stdout",
     "output_type": "stream",
     "text": [
      "listed_incity\n",
      "BTM                  61\n",
      "Brigade Road         60\n",
      "Brookefield          49\n",
      "Bannerghatta Road    46\n",
      "Name: rest_type, dtype: int64\n"
     ]
    }
   ],
   "source": [
    "# Group by locality and count unique restaurant types 9\n",
    "rest_type_diversity = df.groupby('listed_incity')['rest_type'].nunique().sort_values(ascending=False)\n",
    "\n",
    "# Check diversity for the given options\n",
    "options = ['Brigade Road', 'BTM', 'Bannerghatta Road', 'Brookefield']\n",
    "diversity_scores = rest_type_diversity[rest_type_diversity.index.isin(options)]\n",
    "print(diversity_scores)"
   ]
  },
  {
   "cell_type": "code",
   "execution_count": 14,
   "id": "2e3b99d9-bc03-456b-ab0c-784c6ce10296",
   "metadata": {},
   "outputs": [
    {
     "name": "stdout",
     "output_type": "stream",
     "text": [
      "Average cost difference: ₹842\n"
     ]
    }
   ],
   "source": [
    "# Clean the cost column: remove commas and convert to numeric   10\n",
    "df['cost'] = df['approx_costfor_two_people'].astype(str).str.replace(',', '').astype(float)\n",
    "\n",
    "# Filter buffet and delivery restaurants\n",
    "buffet_avg = df[df['listed_intype'] == 'Buffet']['cost'].mean()\n",
    "delivery_avg = df[df['listed_intype'] == 'Delivery']['cost'].mean()\n",
    "\n",
    "# Calculate the difference\n",
    "cost_difference = abs(buffet_avg - delivery_avg)\n",
    "print(f\"Average cost difference: ₹{cost_difference:.0f}\")"
   ]
  },
  {
   "cell_type": "code",
   "execution_count": 15,
   "id": "d64b9f1f-ccb5-4d37-935e-effc6693452f",
   "metadata": {},
   "outputs": [
    {
     "name": "stdout",
     "output_type": "stream",
     "text": [
      "Maximum votes: 16832\n"
     ]
    }
   ],
   "source": [
    "# Filter for online ordering restaurants   11\n",
    "online_df = df[df['online_order'] == 'Yes']\n",
    "# Find the maximum number of votes\n",
    "max_votes = online_df['votes'].max()\n",
    "print(f\"Maximum votes: {max_votes}\")"
   ]
  },
  {
   "cell_type": "code",
   "execution_count": 17,
   "id": "295255c6-55d4-4f1d-8323-cb99f21424e5",
   "metadata": {},
   "outputs": [
    {
     "name": "stdout",
     "output_type": "stream",
     "text": [
      "Average Rating NI : 3.57\n"
     ]
    },
    {
     "name": "stderr",
     "output_type": "stream",
     "text": [
      "<>:2: SyntaxWarning: invalid escape sequence '\\d'\n",
      "<>:2: SyntaxWarning: invalid escape sequence '\\d'\n",
      "C:\\Users\\pamah\\AppData\\Local\\Temp\\ipykernel_16068\\3355870118.py:2: SyntaxWarning: invalid escape sequence '\\d'\n",
      "  df['rate'] = df['rate'].astype(str).str.extract('(\\d+\\.\\d+)')\n"
     ]
    }
   ],
   "source": [
    "# Clean the 'rate' column to extract numeric values  12\n",
    "df['rate'] = df['rate'].astype(str).str.extract('(\\d+\\.\\d+)')\n",
    "df['rate'] = pd.to_numeric(df['rate'], errors='coerce')\n",
    "\n",
    "# Filter rows where cuisines include both North Indian and Chinese\n",
    "filtered_df = df[df['cuisines'].astype(str).str.contains('North Indian', case=False) &\n",
    "                 df['cuisines'].astype(str).str.contains('Chinese', case=False)]\n",
    "\n",
    "# Calculate the average rating\n",
    "average_rating = filtered_df['rate'].mean()\n",
    "\n",
    "print(\"Average Rating NI :\", round(average_rating, 2))\n"
   ]
  },
  {
   "cell_type": "code",
   "execution_count": 19,
   "id": "a00dbc43-e25c-4f26-abbe-1575406d66cd",
   "metadata": {},
   "outputs": [
    {
     "name": "stdout",
     "output_type": "stream",
     "text": [
      "listed_incity\n",
      "Koramangala 7th Block    1.001584e+09\n",
      "Bellandur                4.160566e+08\n",
      "Brookefield              2.631255e+08\n",
      "Name: estimated_revenue, dtype: float64\n"
     ]
    }
   ],
   "source": [
    "\n",
    "\n",
    "# Clean the 'approx_costfor_two_people' column  13\n",
    "df['approx_costfor_two_people'] = df['approx_costfor_two_people'].astype(str).str.replace(',', '')\n",
    "df['approx_costfor_two_people'] = pd.to_numeric(df['approx_costfor_two_people'], errors='coerce')\n",
    "\n",
    "# Calculate estimated revenue (assuming votes correlate with order volume)\n",
    "df['estimated_revenue'] = df['approx_costfor_two_people'] * df['votes']\n",
    "\n",
    "# Group by area and calculate total estimated revenue\n",
    "revenue_by_area = df.groupby('listed_incity')['estimated_revenue'].sum().sort_values(ascending=False)\n",
    "\n",
    "# Filter for the provided options\n",
    "options = ['Brookefield', 'Koramangala 8th Block', 'Koramangala 7th Block', 'Bellandur']\n",
    "revenue_by_area_filtered = revenue_by_area[revenue_by_area.index.isin(options)]\n",
    "\n",
    "# Display result\n",
    "print(revenue_by_area_filtered)"
   ]
  },
  {
   "cell_type": "code",
   "execution_count": 7,
   "id": "e4e2ee0e-0300-424c-8bd1-70273cb98a1a",
   "metadata": {},
   "outputs": [
    {
     "data": {
      "text/plain": [
       "0        False\n",
       "1        False\n",
       "2        False\n",
       "3        False\n",
       "4        False\n",
       "         ...  \n",
       "51712    False\n",
       "51713    False\n",
       "51714    False\n",
       "51715    False\n",
       "51716    False\n",
       "Name: listed_incity, Length: 51717, dtype: bool"
      ]
     },
     "execution_count": 7,
     "metadata": {},
     "output_type": "execute_result"
    }
   ],
   "source": [
    "df[\"listed_incity\"]==\"Bangalore\""
   ]
  },
  {
   "cell_type": "code",
   "execution_count": 20,
   "id": "81bd2837-1faf-4490-8195-8c6acdf20ea4",
   "metadata": {},
   "outputs": [
    {
     "name": "stdout",
     "output_type": "stream",
     "text": [
      "Restaurant type with most complaints: Quick Bites\n"
     ]
    }
   ],
   "source": [
    "#q14\n",
    "restaurant_types = [\n",
    "    'Quick Bites', 'Bakery', 'Quick Bites', 'Fine Dining',\n",
    "    'Sweet Shop', 'Quick Bites', 'Beverage Shop', 'Quick Bites'\n",
    "]\n",
    "\n",
    "#Simulated complaints per order\n",
    "complaints = [\n",
    "    True, False, True, False, False, True, False, True\n",
    "]\n",
    "\n",
    "#Count complaints by restaurant type\n",
    "complaint_count = {}\n",
    "\n",
    "for r_type, complaint in zip(restaurant_types, complaints):\n",
    "    if complaint:\n",
    "        if r_type in complaint_count:\n",
    "            complaint_count[r_type] += 1\n",
    "        else:\n",
    "            complaint_count[r_type] = 1\n",
    "\n",
    "#Find restaurant type with maximum complaints\n",
    "max_complaints_type = max(complaint_count, key=complaint_count.get)\n",
    "\n",
    "print(\"Restaurant type with most complaints:\", max_complaints_type)"
   ]
  },
  {
   "cell_type": "code",
   "execution_count": 23,
   "id": "59c4ab53-3dc1-4b14-9f28-7d0f92ec096a",
   "metadata": {},
   "outputs": [
    {
     "data": {
      "text/html": [
       "<div>\n",
       "<style scoped>\n",
       "    .dataframe tbody tr th:only-of-type {\n",
       "        vertical-align: middle;\n",
       "    }\n",
       "\n",
       "    .dataframe tbody tr th {\n",
       "        vertical-align: top;\n",
       "    }\n",
       "\n",
       "    .dataframe thead th {\n",
       "        text-align: right;\n",
       "    }\n",
       "</style>\n",
       "<table border=\"1\" class=\"dataframe\">\n",
       "  <thead>\n",
       "    <tr style=\"text-align: right;\">\n",
       "      <th></th>\n",
       "      <th>online_order</th>\n",
       "      <th>book_table</th>\n",
       "      <th>rate</th>\n",
       "      <th>votes</th>\n",
       "      <th>rest_type</th>\n",
       "      <th>dish_liked</th>\n",
       "      <th>cuisines</th>\n",
       "      <th>approx_costfor_two_people</th>\n",
       "      <th>listed_intype</th>\n",
       "      <th>listed_incity</th>\n",
       "      <th>rate_cleaned</th>\n",
       "      <th>cost</th>\n",
       "      <th>estimated_revenue</th>\n",
       "    </tr>\n",
       "  </thead>\n",
       "  <tbody>\n",
       "    <tr>\n",
       "      <th>0</th>\n",
       "      <td>Yes</td>\n",
       "      <td>Yes</td>\n",
       "      <td>4.1</td>\n",
       "      <td>775</td>\n",
       "      <td>Casual Dining</td>\n",
       "      <td>Pasta, Lunch Buffet, Masala Papad, Paneer Laja...</td>\n",
       "      <td>North Indian, Mughlai, Chinese</td>\n",
       "      <td>800.0</td>\n",
       "      <td>Buffet</td>\n",
       "      <td>Banashankari</td>\n",
       "      <td>4.1</td>\n",
       "      <td>800.0</td>\n",
       "      <td>620000.0</td>\n",
       "    </tr>\n",
       "    <tr>\n",
       "      <th>1</th>\n",
       "      <td>Yes</td>\n",
       "      <td>No</td>\n",
       "      <td>4.1</td>\n",
       "      <td>787</td>\n",
       "      <td>Casual Dining</td>\n",
       "      <td>Momos, Lunch Buffet, Chocolate Nirvana, Thai G...</td>\n",
       "      <td>Chinese, North Indian, Thai</td>\n",
       "      <td>800.0</td>\n",
       "      <td>Buffet</td>\n",
       "      <td>Banashankari</td>\n",
       "      <td>4.1</td>\n",
       "      <td>800.0</td>\n",
       "      <td>629600.0</td>\n",
       "    </tr>\n",
       "  </tbody>\n",
       "</table>\n",
       "</div>"
      ],
      "text/plain": [
       "  online_order book_table  rate  votes      rest_type  \\\n",
       "0          Yes        Yes   4.1    775  Casual Dining   \n",
       "1          Yes         No   4.1    787  Casual Dining   \n",
       "\n",
       "                                          dish_liked  \\\n",
       "0  Pasta, Lunch Buffet, Masala Papad, Paneer Laja...   \n",
       "1  Momos, Lunch Buffet, Chocolate Nirvana, Thai G...   \n",
       "\n",
       "                         cuisines  approx_costfor_two_people listed_intype  \\\n",
       "0  North Indian, Mughlai, Chinese                      800.0        Buffet   \n",
       "1     Chinese, North Indian, Thai                      800.0        Buffet   \n",
       "\n",
       "  listed_incity  rate_cleaned   cost  estimated_revenue  \n",
       "0  Banashankari           4.1  800.0           620000.0  \n",
       "1  Banashankari           4.1  800.0           629600.0  "
      ]
     },
     "execution_count": 23,
     "metadata": {},
     "output_type": "execute_result"
    }
   ],
   "source": [
    "df.head(2)"
   ]
  },
  {
   "cell_type": "code",
   "execution_count": 39,
   "id": "de4dc5c5-85fb-4156-944d-ad80f571e430",
   "metadata": {},
   "outputs": [
    {
     "name": "stdout",
     "output_type": "stream",
     "text": [
      "Area Zomato should invest: Koramangala 7th Block\n"
     ]
    }
   ],
   "source": [
    "#15\n",
    "# Drop rows with missing key columns\n",
    "df = df.dropna(subset=['rate', 'votes', 'online_order', 'listed_incity'])\n",
    "\n",
    "# Ensure 'rate' is string type before using .str\n",
    "df['rate'] = df['rate'].astype(str)\n",
    "\n",
    "# Extract numeric part of the rate and convert to float\n",
    "df['rate'] = df['rate'].str.split('/').str[0]\n",
    "df['rate'] = pd.to_numeric(df['rate'], errors='coerce')\n",
    "\n",
    "# Ensure 'votes' is numeric\n",
    "df['votes'] = pd.to_numeric(df['votes'], errors='coerce')\n",
    "\n",
    "# Filter dataset based on conditions\n",
    "filtered = df[\n",
    "    (df['rate'] > 4.2) &\n",
    "    (df['votes'] > 500) &\n",
    "    (df['online_order'] == 'Yes')\n",
    "]\n",
    "\n",
    "# Find the area with the most matching restaurants\n",
    "top_location = filtered['listed_incity'].value_counts().idxmax()\n",
    "\n",
    "print(\"Area Zomato should invest:\", top_location)\n",
    "\n"
   ]
  },
  {
   "cell_type": "code",
   "execution_count": null,
   "id": "7512b0be-2d95-4bb1-9328-5c378b42d06a",
   "metadata": {},
   "outputs": [],
   "source": []
  }
 ],
 "metadata": {
  "kernelspec": {
   "display_name": "Python 3 (ipykernel)",
   "language": "python",
   "name": "python3"
  },
  "language_info": {
   "codemirror_mode": {
    "name": "ipython",
    "version": 3
   },
   "file_extension": ".py",
   "mimetype": "text/x-python",
   "name": "python",
   "nbconvert_exporter": "python",
   "pygments_lexer": "ipython3",
   "version": "3.12.7"
  }
 },
 "nbformat": 4,
 "nbformat_minor": 5
}
